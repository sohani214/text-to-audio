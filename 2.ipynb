{
 "cells": [
  {
   "cell_type": "code",
   "execution_count": 1,
   "id": "bcc492bf",
   "metadata": {},
   "outputs": [],
   "source": [
    "import tkinter as tk\n",
    "from tkinter import *\n",
    "from tkinter import filedialog\n",
    "from tkinter.ttk import Combobox\n",
    "import pyttsx3\n",
    "import os\n",
    "from gtts import gTTS\n",
    "from playsound import playsound\n"
   ]
  },
  {
   "cell_type": "code",
   "execution_count": 2,
   "id": "6657efca",
   "metadata": {},
   "outputs": [],
   "source": [
    "root=Tk()\n",
    "root.title(\"sohani\")\n",
    "root.geometry(\"1000x580+200+80\")  # ✅ Fixed geometry\n",
    "root.resizable(True,True)\n",
    "root.configure(bg='red')\n",
    "# root.mainloop()"
   ]
  },
  {
   "cell_type": "code",
   "execution_count": 3,
   "id": "41e40980",
   "metadata": {},
   "outputs": [],
   "source": [
    "tts=pyttsx3.init()\n",
    "def speaknow():\n",
    "    text=text_box.get(1.0,END)\n",
    "    gender=gender_box.get()\n",
    "    speed=speed_box.get()\n",
    "    voices=tts.getProperty('voices')\n",
    "    \n",
    "    def setvoice():\n",
    "        if(gender=='Male'):\n",
    "            tts.setProperty('voice',voices[0].id)\n",
    "            tts.say(text)\n",
    "            tts.runAndWait()\n",
    "        else:\n",
    "            tts.setProperty('voice',voices[1].id)\n",
    "            tts.say(text)\n",
    "            tts.runAndWait()\n",
    "    if(text):\n",
    "        if(speed=='Fast'):\n",
    "            tts.setProperty('rate',250)\n",
    "            setvoice()\n",
    "        elif(speed=='Medium'):\n",
    "            tts.setProperty('rate',150)\n",
    "            setvoice()\n",
    "        else:\n",
    "            tts.setProperty('rate',60)\n",
    "            setvoice()    "
   ]
  },
  {
   "cell_type": "code",
   "execution_count": 4,
   "id": "a28dc4b1",
   "metadata": {},
   "outputs": [],
   "source": [
    "from PIL import Image,ImageTk"
   ]
  },
  {
   "cell_type": "code",
   "execution_count": 5,
   "id": "8dab6d52",
   "metadata": {},
   "outputs": [],
   "source": [
    "# from tkinter import Tk, Label\n",
    "# from PIL import Image, ImageTk\n",
    "\n",
    "# root = Tk()\n",
    "\n",
    "# image = Image.open('download.png')\n",
    "# simple_logo = ImageTk.PhotoImage(image)\n",
    "\n",
    "# # Hold a reference by assigning to widget, or global\n",
    "# label = Label(root, image=simple_logo, bg='#F7AC40')\n",
    "# label.image = simple_logo  # <== This line is required in Jupyter!\n",
    "# label.place(x=880, y=539)\n",
    "\n",
    "# root.mainloop()\n"
   ]
  },
  {
   "cell_type": "code",
   "execution_count": 6,
   "id": "16fdbaab",
   "metadata": {},
   "outputs": [],
   "source": [
    "text_box=Text(root,font=\"calibri 20\",bg=\"white\",relief=GROOVE,wrap=WORD,bd=0)\n",
    "text_box.place(x=30,y=150,width=940,height=180)\n",
    "# root.mainloop()"
   ]
  },
  {
   "cell_type": "code",
   "execution_count": 7,
   "id": "447ae979",
   "metadata": {},
   "outputs": [],
   "source": [
    "gender_box=Combobox(root,value=['Male','Female'],font=\"Robote 12\",state='r',width=12)\n",
    "gender_box.place(x=340,y=400)\n",
    "gender_box.set('Male')\n",
    "# root.mainloop()"
   ]
  },
  {
   "cell_type": "code",
   "execution_count": 8,
   "id": "fa275cb4",
   "metadata": {},
   "outputs": [],
   "source": [
    "speed_box=Combobox(root,value=['Fast','Medium','Slow'],font=\"Robote 12\",state='r',width=12)\n",
    "speed_box.place(x=540,y=400)\n",
    "speed_box.set('Medium')\n",
    "# root.mainloop()"
   ]
  },
  {
   "cell_type": "code",
   "execution_count": 9,
   "id": "033f6d12",
   "metadata": {},
   "outputs": [],
   "source": [
    "Label(root,text=\"select voice\",font=\"timesNewRoman 15 bold\",bg=\"white\").place(x=340,y=370)\n",
    "Label(root,text=\"select speed\",font=\"timesNewRoman 15 bold\",bg=\"white\").place(x=540,y=370)\n",
    "# root.mainloop()"
   ]
  },
  {
   "cell_type": "code",
   "execution_count": 10,
   "id": "10b94ed4",
   "metadata": {},
   "outputs": [],
   "source": [
    "play_btn=Button(root,text='Play',compound=LEFT,bg='white',width=60,font='arial 14 bold',borderwidth='0.1c',command=speaknow)\n",
    "play_btn.place(x=435,y=450)"
   ]
  },
  {
   "cell_type": "code",
   "execution_count": 12,
   "id": "0e4aaf23",
   "metadata": {},
   "outputs": [],
   "source": [
    "root.mainloop()"
   ]
  }
 ],
 "metadata": {
  "kernelspec": {
   "display_name": "Python 3",
   "language": "python",
   "name": "python3"
  },
  "language_info": {
   "codemirror_mode": {
    "name": "ipython",
    "version": 3
   },
   "file_extension": ".py",
   "mimetype": "text/x-python",
   "name": "python",
   "nbconvert_exporter": "python",
   "pygments_lexer": "ipython3",
   "version": "3.12.4"
  }
 },
 "nbformat": 4,
 "nbformat_minor": 5
}
